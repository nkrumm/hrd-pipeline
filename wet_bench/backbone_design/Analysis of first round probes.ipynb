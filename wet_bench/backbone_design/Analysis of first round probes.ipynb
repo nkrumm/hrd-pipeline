{
 "cells": [
  {
   "cell_type": "code",
   "execution_count": 29,
   "metadata": {},
   "outputs": [],
   "source": [
    "%matplotlib inline"
   ]
  },
  {
   "cell_type": "code",
   "execution_count": 142,
   "metadata": {},
   "outputs": [],
   "source": [
    "import pandas as pd\n",
    "import natsort as na\n",
    "import matplotlib.pyplot as plt"
   ]
  },
  {
   "cell_type": "code",
   "execution_count": 9,
   "metadata": {},
   "outputs": [],
   "source": [
    "chrom_size = pd.read_csv(\"https://hgdownload.cse.ucsc.edu/goldenPath/hg19/bigZips/hg19.chrom.sizes\", sep=\"\\t\", names=[\"chrom\", \"size\"])"
   ]
  },
  {
   "cell_type": "code",
   "execution_count": 5,
   "metadata": {},
   "outputs": [],
   "source": [
    "df = pd.read_csv(\"/Users/nkrumm/Desktop/HRD_snps.bed\", sep=\"\\t\", names=[\"chrom\", \"start\", \"end\", \"rsid\"])"
   ]
  },
  {
   "cell_type": "code",
   "execution_count": 18,
   "metadata": {},
   "outputs": [],
   "source": [
    "chrom_size = chrom_size.head(24)\n",
    "chrom_size[\"chrom\"] = chrom_size[\"chrom\"].str.replace(\"chr\", \"\")"
   ]
  },
  {
   "cell_type": "code",
   "execution_count": 6,
   "metadata": {},
   "outputs": [
    {
     "data": {
      "text/html": [
       "<div>\n",
       "<style scoped>\n",
       "    .dataframe tbody tr th:only-of-type {\n",
       "        vertical-align: middle;\n",
       "    }\n",
       "\n",
       "    .dataframe tbody tr th {\n",
       "        vertical-align: top;\n",
       "    }\n",
       "\n",
       "    .dataframe thead th {\n",
       "        text-align: right;\n",
       "    }\n",
       "</style>\n",
       "<table border=\"1\" class=\"dataframe\">\n",
       "  <thead>\n",
       "    <tr style=\"text-align: right;\">\n",
       "      <th></th>\n",
       "      <th>chrom</th>\n",
       "      <th>start</th>\n",
       "      <th>end</th>\n",
       "      <th>rsid</th>\n",
       "    </tr>\n",
       "  </thead>\n",
       "  <tbody>\n",
       "    <tr>\n",
       "      <th>0</th>\n",
       "      <td>1</td>\n",
       "      <td>798959</td>\n",
       "      <td>798959</td>\n",
       "      <td>rs11240777</td>\n",
       "    </tr>\n",
       "    <tr>\n",
       "      <th>1</th>\n",
       "      <td>1</td>\n",
       "      <td>3736319</td>\n",
       "      <td>3736319</td>\n",
       "      <td>rs9424303</td>\n",
       "    </tr>\n",
       "    <tr>\n",
       "      <th>2</th>\n",
       "      <td>1</td>\n",
       "      <td>6195732</td>\n",
       "      <td>6195732</td>\n",
       "      <td>rs9435080</td>\n",
       "    </tr>\n",
       "    <tr>\n",
       "      <th>3</th>\n",
       "      <td>1</td>\n",
       "      <td>7420904</td>\n",
       "      <td>7420904</td>\n",
       "      <td>rs705672</td>\n",
       "    </tr>\n",
       "    <tr>\n",
       "      <th>4</th>\n",
       "      <td>1</td>\n",
       "      <td>8767311</td>\n",
       "      <td>8767311</td>\n",
       "      <td>rs10864363</td>\n",
       "    </tr>\n",
       "  </tbody>\n",
       "</table>\n",
       "</div>"
      ],
      "text/plain": [
       "  chrom    start      end        rsid\n",
       "0     1   798959   798959  rs11240777\n",
       "1     1  3736319  3736319   rs9424303\n",
       "2     1  6195732  6195732   rs9435080\n",
       "3     1  7420904  7420904    rs705672\n",
       "4     1  8767311  8767311  rs10864363"
      ]
     },
     "execution_count": 6,
     "metadata": {},
     "output_type": "execute_result"
    }
   ],
   "source": [
    "df.head()"
   ]
  },
  {
   "cell_type": "code",
   "execution_count": 44,
   "metadata": {},
   "outputs": [],
   "source": [
    "counts = df.groupby(\"chrom\").count()[\"rsid\"]\n",
    "counts = pd.merge(counts, chrom_size.set_index(\"chrom\"), left_index=True, right_index=True)"
   ]
  },
  {
   "cell_type": "code",
   "execution_count": 46,
   "metadata": {},
   "outputs": [],
   "source": [
    "counts = counts.reindex(index=na.natsorted(counts.index))"
   ]
  },
  {
   "cell_type": "code",
   "execution_count": 47,
   "metadata": {},
   "outputs": [],
   "source": [
    "counts[\"density\"] = counts.rsid/counts[\"size\"]"
   ]
  },
  {
   "cell_type": "code",
   "execution_count": 120,
   "metadata": {},
   "outputs": [
    {
     "data": {
      "text/plain": [
       "<matplotlib.axes._subplots.AxesSubplot at 0x11db93d50>"
      ]
     },
     "execution_count": 120,
     "metadata": {},
     "output_type": "execute_result"
    },
    {
     "data": {
      "image/png": "[encoded data removed]",
      "text/plain": [
       "<Figure size 432x288 with 1 Axes>"
      ]
     },
     "metadata": {
      "needs_background": "light"
     },
     "output_type": "display_data"
    }
   ],
   "source": [
    "(1./counts.density).plot(kind='bar')\n"
   ]
  },
  {
   "cell_type": "code",
   "execution_count": 49,
   "metadata": {},
   "outputs": [
    {
     "data": {
      "text/plain": [
       "<matplotlib.axes._subplots.AxesSubplot at 0x11767be90>"
      ]
     },
     "execution_count": 49,
     "metadata": {},
     "output_type": "execute_result"
    },
    {
     "data": {
      "image/png": "[encoded data removed]",
      "text/plain": [
       "<Figure size 432x288 with 1 Axes>"
      ]
     },
     "metadata": {
      "needs_background": "light"
     },
     "output_type": "display_data"
    }
   ],
   "source": [
    "counts.rsid.plot(kind='bar')"
   ]
  },
  {
   "cell_type": "markdown",
   "metadata": {},
   "source": [
    "## Validation of snps\n",
    "\n",
    "I used https://www.snp-nexus.org/ to re-annotate from the RSID"
   ]
  },
  {
   "cell_type": "code",
   "execution_count": 50,
   "metadata": {},
   "outputs": [],
   "source": [
    "annot = pd.read_csv(\"/Users/nkrumm/Downloads/gen_coords_92237674.txt\", sep=\"\\t\")"
   ]
  },
  {
   "cell_type": "code",
   "execution_count": 163,
   "metadata": {},
   "outputs": [
    {
     "data": {
      "text/html": [
       "<div>\n",
       "<style scoped>\n",
       "    .dataframe tbody tr th:only-of-type {\n",
       "        vertical-align: middle;\n",
       "    }\n",
       "\n",
       "    .dataframe tbody tr th {\n",
       "        vertical-align: top;\n",
       "    }\n",
       "\n",
       "    .dataframe thead th {\n",
       "        text-align: right;\n",
       "    }\n",
       "</style>\n",
       "<table border=\"1\" class=\"dataframe\">\n",
       "  <thead>\n",
       "    <tr style=\"text-align: right;\">\n",
       "      <th></th>\n",
       "      <th>Variation ID</th>\n",
       "      <th>dbSNP</th>\n",
       "      <th>Chromosome</th>\n",
       "      <th>Position</th>\n",
       "      <th>REF Allele</th>\n",
       "      <th>ALT Allele (IUPAC)</th>\n",
       "      <th>Minor Allele</th>\n",
       "      <th>Minor Allele Global Frequency</th>\n",
       "      <th>Contig</th>\n",
       "      <th>Contig Position</th>\n",
       "      <th>Band</th>\n",
       "    </tr>\n",
       "  </thead>\n",
       "  <tbody>\n",
       "    <tr>\n",
       "      <th>0</th>\n",
       "      <td>rs11240777</td>\n",
       "      <td>rs11240777</td>\n",
       "      <td>1</td>\n",
       "      <td>798959</td>\n",
       "      <td>G</td>\n",
       "      <td>A</td>\n",
       "      <td>A</td>\n",
       "      <td>0.409944</td>\n",
       "      <td>GL000003.1</td>\n",
       "      <td>277591</td>\n",
       "      <td>p36.33</td>\n",
       "    </tr>\n",
       "    <tr>\n",
       "      <th>1</th>\n",
       "      <td>rs9424303</td>\n",
       "      <td>rs9424303</td>\n",
       "      <td>1</td>\n",
       "      <td>3736319</td>\n",
       "      <td>A</td>\n",
       "      <td>G</td>\n",
       "      <td>A</td>\n",
       "      <td>0.309704</td>\n",
       "      <td>GL000003.1</td>\n",
       "      <td>3214951</td>\n",
       "      <td>p36.32</td>\n",
       "    </tr>\n",
       "    <tr>\n",
       "      <th>2</th>\n",
       "      <td>rs9435080</td>\n",
       "      <td>rs9435080</td>\n",
       "      <td>1</td>\n",
       "      <td>6195732</td>\n",
       "      <td>C</td>\n",
       "      <td>R</td>\n",
       "      <td>C</td>\n",
       "      <td>0.489816</td>\n",
       "      <td>GL000004.1</td>\n",
       "      <td>2200464</td>\n",
       "      <td>p36.31</td>\n",
       "    </tr>\n",
       "    <tr>\n",
       "      <th>3</th>\n",
       "      <td>rs705672</td>\n",
       "      <td>rs705672</td>\n",
       "      <td>1</td>\n",
       "      <td>7420904</td>\n",
       "      <td>C</td>\n",
       "      <td>T</td>\n",
       "      <td>C</td>\n",
       "      <td>0.487220</td>\n",
       "      <td>GL000004.1</td>\n",
       "      <td>3425636</td>\n",
       "      <td>p36.23</td>\n",
       "    </tr>\n",
       "    <tr>\n",
       "      <th>4</th>\n",
       "      <td>rs10864363</td>\n",
       "      <td>rs10864363</td>\n",
       "      <td>1</td>\n",
       "      <td>8767311</td>\n",
       "      <td>T</td>\n",
       "      <td>G</td>\n",
       "      <td>G</td>\n",
       "      <td>0.315695</td>\n",
       "      <td>GL000004.1</td>\n",
       "      <td>4772043</td>\n",
       "      <td>p36.23</td>\n",
       "    </tr>\n",
       "  </tbody>\n",
       "</table>\n",
       "</div>"
      ],
      "text/plain": [
       "  Variation ID       dbSNP Chromosome  Position REF Allele ALT Allele (IUPAC)  \\\n",
       "0   rs11240777  rs11240777          1    798959          G                  A   \n",
       "1    rs9424303   rs9424303          1   3736319          A                  G   \n",
       "2    rs9435080   rs9435080          1   6195732          C                  R   \n",
       "3     rs705672    rs705672          1   7420904          C                  T   \n",
       "4   rs10864363  rs10864363          1   8767311          T                  G   \n",
       "\n",
       "  Minor Allele Minor Allele Global Frequency      Contig  Contig Position  \\\n",
       "0            A                      0.409944  GL000003.1           277591   \n",
       "1            A                      0.309704  GL000003.1          3214951   \n",
       "2            C                      0.489816  GL000004.1          2200464   \n",
       "3            C                      0.487220  GL000004.1          3425636   \n",
       "4            G                      0.315695  GL000004.1          4772043   \n",
       "\n",
       "     Band  \n",
       "0  p36.33  \n",
       "1  p36.32  \n",
       "2  p36.31  \n",
       "3  p36.23  \n",
       "4  p36.23  "
      ]
     },
     "execution_count": 163,
     "metadata": {},
     "output_type": "execute_result"
    }
   ],
   "source": [
    "annot.head()"
   ]
  },
  {
   "cell_type": "code",
   "execution_count": 85,
   "metadata": {},
   "outputs": [],
   "source": [
    "m = pd.merge(annot, df, left_on=\"Variation ID\", right_on=\"rsid\")\n",
    "assert (m.Position != m.start).sum() == 0"
   ]
  },
  {
   "cell_type": "code",
   "execution_count": 90,
   "metadata": {},
   "outputs": [],
   "source": [
    "m[\"MAF\"] = pd.to_numeric(annot[\"Minor Allele Global Frequency\"], errors='coerce')"
   ]
  },
  {
   "cell_type": "code",
   "execution_count": 86,
   "metadata": {},
   "outputs": [
    {
     "data": {
      "text/html": [
       "<div>\n",
       "<style scoped>\n",
       "    .dataframe tbody tr th:only-of-type {\n",
       "        vertical-align: middle;\n",
       "    }\n",
       "\n",
       "    .dataframe tbody tr th {\n",
       "        vertical-align: top;\n",
       "    }\n",
       "\n",
       "    .dataframe thead th {\n",
       "        text-align: right;\n",
       "    }\n",
       "</style>\n",
       "<table border=\"1\" class=\"dataframe\">\n",
       "  <thead>\n",
       "    <tr style=\"text-align: right;\">\n",
       "      <th></th>\n",
       "      <th>Variation ID</th>\n",
       "      <th>dbSNP</th>\n",
       "      <th>Chromosome</th>\n",
       "      <th>Position</th>\n",
       "      <th>REF Allele</th>\n",
       "      <th>ALT Allele (IUPAC)</th>\n",
       "      <th>Minor Allele</th>\n",
       "      <th>Minor Allele Global Frequency</th>\n",
       "      <th>Contig</th>\n",
       "      <th>Contig Position</th>\n",
       "      <th>Band</th>\n",
       "      <th>chrom</th>\n",
       "      <th>start</th>\n",
       "      <th>end</th>\n",
       "      <th>rsid</th>\n",
       "    </tr>\n",
       "  </thead>\n",
       "  <tbody>\n",
       "    <tr>\n",
       "      <th>0</th>\n",
       "      <td>rs11240777</td>\n",
       "      <td>rs11240777</td>\n",
       "      <td>1</td>\n",
       "      <td>798959</td>\n",
       "      <td>G</td>\n",
       "      <td>A</td>\n",
       "      <td>A</td>\n",
       "      <td>0.409944</td>\n",
       "      <td>GL000003.1</td>\n",
       "      <td>277591</td>\n",
       "      <td>p36.33</td>\n",
       "      <td>1</td>\n",
       "      <td>798959</td>\n",
       "      <td>798959</td>\n",
       "      <td>rs11240777</td>\n",
       "    </tr>\n",
       "    <tr>\n",
       "      <th>1</th>\n",
       "      <td>rs9424303</td>\n",
       "      <td>rs9424303</td>\n",
       "      <td>1</td>\n",
       "      <td>3736319</td>\n",
       "      <td>A</td>\n",
       "      <td>G</td>\n",
       "      <td>A</td>\n",
       "      <td>0.309704</td>\n",
       "      <td>GL000003.1</td>\n",
       "      <td>3214951</td>\n",
       "      <td>p36.32</td>\n",
       "      <td>1</td>\n",
       "      <td>3736319</td>\n",
       "      <td>3736319</td>\n",
       "      <td>rs9424303</td>\n",
       "    </tr>\n",
       "    <tr>\n",
       "      <th>2</th>\n",
       "      <td>rs9435080</td>\n",
       "      <td>rs9435080</td>\n",
       "      <td>1</td>\n",
       "      <td>6195732</td>\n",
       "      <td>C</td>\n",
       "      <td>R</td>\n",
       "      <td>C</td>\n",
       "      <td>0.489816</td>\n",
       "      <td>GL000004.1</td>\n",
       "      <td>2200464</td>\n",
       "      <td>p36.31</td>\n",
       "      <td>1</td>\n",
       "      <td>6195732</td>\n",
       "      <td>6195732</td>\n",
       "      <td>rs9435080</td>\n",
       "    </tr>\n",
       "    <tr>\n",
       "      <th>3</th>\n",
       "      <td>rs705672</td>\n",
       "      <td>rs705672</td>\n",
       "      <td>1</td>\n",
       "      <td>7420904</td>\n",
       "      <td>C</td>\n",
       "      <td>T</td>\n",
       "      <td>C</td>\n",
       "      <td>0.487220</td>\n",
       "      <td>GL000004.1</td>\n",
       "      <td>3425636</td>\n",
       "      <td>p36.23</td>\n",
       "      <td>1</td>\n",
       "      <td>7420904</td>\n",
       "      <td>7420904</td>\n",
       "      <td>rs705672</td>\n",
       "    </tr>\n",
       "    <tr>\n",
       "      <th>4</th>\n",
       "      <td>rs10864363</td>\n",
       "      <td>rs10864363</td>\n",
       "      <td>1</td>\n",
       "      <td>8767311</td>\n",
       "      <td>T</td>\n",
       "      <td>G</td>\n",
       "      <td>G</td>\n",
       "      <td>0.315695</td>\n",
       "      <td>GL000004.1</td>\n",
       "      <td>4772043</td>\n",
       "      <td>p36.23</td>\n",
       "      <td>1</td>\n",
       "      <td>8767311</td>\n",
       "      <td>8767311</td>\n",
       "      <td>rs10864363</td>\n",
       "    </tr>\n",
       "  </tbody>\n",
       "</table>\n",
       "</div>"
      ],
      "text/plain": [
       "  Variation ID       dbSNP Chromosome  Position REF Allele ALT Allele (IUPAC)  \\\n",
       "0   rs11240777  rs11240777          1    798959          G                  A   \n",
       "1    rs9424303   rs9424303          1   3736319          A                  G   \n",
       "2    rs9435080   rs9435080          1   6195732          C                  R   \n",
       "3     rs705672    rs705672          1   7420904          C                  T   \n",
       "4   rs10864363  rs10864363          1   8767311          T                  G   \n",
       "\n",
       "  Minor Allele Minor Allele Global Frequency      Contig  Contig Position  \\\n",
       "0            A                      0.409944  GL000003.1           277591   \n",
       "1            A                      0.309704  GL000003.1          3214951   \n",
       "2            C                      0.489816  GL000004.1          2200464   \n",
       "3            C                      0.487220  GL000004.1          3425636   \n",
       "4            G                      0.315695  GL000004.1          4772043   \n",
       "\n",
       "     Band chrom    start      end        rsid  \n",
       "0  p36.33     1   798959   798959  rs11240777  \n",
       "1  p36.32     1  3736319  3736319   rs9424303  \n",
       "2  p36.31     1  6195732  6195732   rs9435080  \n",
       "3  p36.23     1  7420904  7420904    rs705672  \n",
       "4  p36.23     1  8767311  8767311  rs10864363  "
      ]
     },
     "execution_count": 86,
     "metadata": {},
     "output_type": "execute_result"
    }
   ],
   "source": [
    "m.head()"
   ]
  },
  {
   "cell_type": "code",
   "execution_count": 83,
   "metadata": {},
   "outputs": [
    {
     "data": {
      "text/plain": [
       "A       764\n",
       "T       748\n",
       "G       720\n",
       "C       714\n",
       "None     18\n",
       "Name: Minor Allele, dtype: int64"
      ]
     },
     "execution_count": 83,
     "metadata": {},
     "output_type": "execute_result"
    }
   ],
   "source": [
    "m[\"Minor Allele\"].value_counts()"
   ]
  },
  {
   "cell_type": "code",
   "execution_count": 84,
   "metadata": {},
   "outputs": [
    {
     "data": {
      "text/plain": [
       "G    614\n",
       "T    593\n",
       "C    564\n",
       "A    561\n",
       "M    158\n",
       "K    131\n",
       "W    124\n",
       "R     57\n",
       "S     52\n",
       "Y     47\n",
       "H     29\n",
       "D     18\n",
       "B     10\n",
       "V      6\n",
       "Name: ALT Allele (IUPAC), dtype: int64"
      ]
     },
     "execution_count": 84,
     "metadata": {},
     "output_type": "execute_result"
    }
   ],
   "source": [
    "m[\"ALT Allele (IUPAC)\"].value_counts()"
   ]
  },
  {
   "cell_type": "code",
   "execution_count": 82,
   "metadata": {},
   "outputs": [
    {
     "data": {
      "text/plain": [
       "C    797\n",
       "G    750\n",
       "A    740\n",
       "T    677\n",
       "Name: REF Allele, dtype: int64"
      ]
     },
     "execution_count": 82,
     "metadata": {},
     "output_type": "execute_result"
    }
   ],
   "source": [
    "m[\"REF Allele\"].value_counts()"
   ]
  },
  {
   "cell_type": "code",
   "execution_count": 119,
   "metadata": {},
   "outputs": [
    {
     "data": {
      "text/plain": [
       "<matplotlib.axes._subplots.AxesSubplot at 0x11dba9190>"
      ]
     },
     "execution_count": 119,
     "metadata": {},
     "output_type": "execute_result"
    },
    {
     "data": {
      "image/png": "[encoded data removed]",
      "text/plain": [
       "<Figure size 432x288 with 1 Axes>"
      ]
     },
     "metadata": {
      "needs_background": "light"
     },
     "output_type": "display_data"
    }
   ],
   "source": [
    "t = m[m[\"MAF\"] > 0.3].Chromosome.value_counts()\n",
    "t = pd.merge(t, chrom_size.set_index(\"chrom\"), left_index=True, right_index=True)\n",
    "t = t.reindex(index=na.natsorted(t.index))\n",
    "t[\"density\"] = t.Chromosome/t[\"size\"]\n",
    "(1./t.density).plot(kind='bar')"
   ]
  },
  {
   "cell_type": "markdown",
   "metadata": {},
   "source": [
    "### MAF"
   ]
  },
  {
   "cell_type": "code",
   "execution_count": 138,
   "metadata": {},
   "outputs": [
    {
     "data": {
      "text/plain": [
       "<matplotlib.axes._subplots.AxesSubplot at 0x11ed223d0>"
      ]
     },
     "execution_count": 138,
     "metadata": {},
     "output_type": "execute_result"
    },
    {
     "data": {
      "image/png": "[encoded data removed]",
      "text/plain": [
       "<Figure size 432x288 with 1 Axes>"
      ]
     },
     "metadata": {
      "needs_background": "light"
     },
     "output_type": "display_data"
    }
   ],
   "source": [
    "pd.to_numeric(annot[\"Minor Allele Global Frequency\"], errors='coerce').hist(bins=50, cumulative=True)"
   ]
  },
  {
   "cell_type": "code",
   "execution_count": 145,
   "metadata": {},
   "outputs": [
    {
     "data": {
      "text/plain": [
       "Text(0.5, 1.0, 'HRD')"
      ]
     },
     "execution_count": 145,
     "metadata": {},
     "output_type": "execute_result"
    },
    {
     "data": {
      "image/png": "[encoded data removed]",
      "text/plain": [
       "<Figure size 432x288 with 1 Axes>"
      ]
     },
     "metadata": {
      "needs_background": "light"
     },
     "output_type": "display_data"
    }
   ],
   "source": [
    "pd.to_numeric(annot[\"Minor Allele Global Frequency\"], errors='coerce').hist(bins=50)\n",
    "plt.title(\"HRD\")"
   ]
  },
  {
   "cell_type": "markdown",
   "metadata": {},
   "source": [
    "## IDT"
   ]
  },
  {
   "cell_type": "code",
   "execution_count": 122,
   "metadata": {},
   "outputs": [],
   "source": [
    "idt = pd.read_csv(\"/Users/nkrumm/Downloads/gen_coords_cbc5b7f0.txt\", sep=\"\\t\")"
   ]
  },
  {
   "cell_type": "code",
   "execution_count": 154,
   "metadata": {},
   "outputs": [
    {
     "data": {
      "text/plain": [
       "(8858, 12)"
      ]
     },
     "execution_count": 154,
     "metadata": {},
     "output_type": "execute_result"
    }
   ],
   "source": [
    "idt.shape"
   ]
  },
  {
   "cell_type": "code",
   "execution_count": 157,
   "metadata": {},
   "outputs": [
    {
     "data": {
      "text/plain": [
       "1     8656\n",
       "2       59\n",
       "4       58\n",
       "3       36\n",
       "5        8\n",
       "6        7\n",
       "8        5\n",
       "7        5\n",
       "12       4\n",
       "9        4\n",
       "17       3\n",
       "21       2\n",
       "10       2\n",
       "22       1\n",
       "27       1\n",
       "15       1\n",
       "26       1\n",
       "18       1\n",
       "30       1\n",
       "33       1\n",
       "25       1\n",
       "23       1\n",
       "Name: Minor Allele, dtype: int64"
      ]
     },
     "execution_count": 157,
     "metadata": {},
     "output_type": "execute_result"
    }
   ],
   "source": [
    "idt[\"Minor Allele\"].apply(lambda x: len(x)).value_counts()"
   ]
  },
  {
   "cell_type": "code",
   "execution_count": 123,
   "metadata": {},
   "outputs": [],
   "source": [
    "idt[\"MAF\"] = pd.to_numeric(idt[\"Minor Allele Global Frequency\"], errors='coerce')"
   ]
  },
  {
   "cell_type": "code",
   "execution_count": 144,
   "metadata": {},
   "outputs": [
    {
     "data": {
      "text/plain": [
       "Text(0.5, 1.0, 'IDT')"
      ]
     },
     "execution_count": 144,
     "metadata": {},
     "output_type": "execute_result"
    },
    {
     "data": {
      "image/png": "[encoded data removed]",
      "text/plain": [
       "<Figure size 432x288 with 1 Axes>"
      ]
     },
     "metadata": {
      "needs_background": "light"
     },
     "output_type": "display_data"
    }
   ],
   "source": [
    "idt.MAF.hist(bins=50)\n",
    "plt.xlim([0,0.5])\n",
    "plt.title(\"IDT\")"
   ]
  },
  {
   "cell_type": "code",
   "execution_count": 127,
   "metadata": {},
   "outputs": [],
   "source": [
    "probes = pd.read_csv(\"/Users/nkrumm/Downloads/xgen_cnv_backbone_panel_probes.bed\", sep=\"\\t\", names=[\"chrom\", \"start\", \"end\", \"name\"])"
   ]
  },
  {
   "cell_type": "code",
   "execution_count": 128,
   "metadata": {},
   "outputs": [
    {
     "data": {
      "text/html": [
       "<div>\n",
       "<style scoped>\n",
       "    .dataframe tbody tr th:only-of-type {\n",
       "        vertical-align: middle;\n",
       "    }\n",
       "\n",
       "    .dataframe tbody tr th {\n",
       "        vertical-align: top;\n",
       "    }\n",
       "\n",
       "    .dataframe thead th {\n",
       "        text-align: right;\n",
       "    }\n",
       "</style>\n",
       "<table border=\"1\" class=\"dataframe\">\n",
       "  <thead>\n",
       "    <tr style=\"text-align: right;\">\n",
       "      <th></th>\n",
       "      <th>chrom</th>\n",
       "      <th>start</th>\n",
       "      <th>end</th>\n",
       "      <th>name</th>\n",
       "    </tr>\n",
       "  </thead>\n",
       "  <tbody>\n",
       "    <tr>\n",
       "      <th>0</th>\n",
       "      <td>chr1</td>\n",
       "      <td>565346</td>\n",
       "      <td>565466</td>\n",
       "      <td>chr1_p36.33_001_rs6594029</td>\n",
       "    </tr>\n",
       "    <tr>\n",
       "      <th>1</th>\n",
       "      <td>chr1</td>\n",
       "      <td>985390</td>\n",
       "      <td>985510</td>\n",
       "      <td>chr1_p36.33_002_rs397834473</td>\n",
       "    </tr>\n",
       "    <tr>\n",
       "      <th>2</th>\n",
       "      <td>chr1</td>\n",
       "      <td>1660666</td>\n",
       "      <td>1660786</td>\n",
       "      <td>chr1_p36.33_003_rs1061884</td>\n",
       "    </tr>\n",
       "    <tr>\n",
       "      <th>3</th>\n",
       "      <td>chr1</td>\n",
       "      <td>2036203</td>\n",
       "      <td>2036323</td>\n",
       "      <td>chr1_p36.33_004_rs10797413</td>\n",
       "    </tr>\n",
       "    <tr>\n",
       "      <th>4</th>\n",
       "      <td>chr1</td>\n",
       "      <td>2327755</td>\n",
       "      <td>2327875</td>\n",
       "      <td>chr1_p36.32_001_rs2840532</td>\n",
       "    </tr>\n",
       "  </tbody>\n",
       "</table>\n",
       "</div>"
      ],
      "text/plain": [
       "  chrom    start      end                         name\n",
       "0  chr1   565346   565466    chr1_p36.33_001_rs6594029\n",
       "1  chr1   985390   985510  chr1_p36.33_002_rs397834473\n",
       "2  chr1  1660666  1660786    chr1_p36.33_003_rs1061884\n",
       "3  chr1  2036203  2036323   chr1_p36.33_004_rs10797413\n",
       "4  chr1  2327755  2327875    chr1_p36.32_001_rs2840532"
      ]
     },
     "execution_count": 128,
     "metadata": {},
     "output_type": "execute_result"
    }
   ],
   "source": [
    "probes.head()"
   ]
  },
  {
   "cell_type": "code",
   "execution_count": 129,
   "metadata": {},
   "outputs": [],
   "source": [
    "probes[\"size\"] = probes.end - probes.start"
   ]
  },
  {
   "cell_type": "code",
   "execution_count": 134,
   "metadata": {},
   "outputs": [
    {
     "data": {
      "text/plain": [
       "1093519"
      ]
     },
     "execution_count": 134,
     "metadata": {},
     "output_type": "execute_result"
    }
   ],
   "source": [
    "probes[\"size\"].sum()"
   ]
  },
  {
   "cell_type": "code",
   "execution_count": null,
   "metadata": {},
   "outputs": [],
   "source": []
  },
  {
   "cell_type": "code",
   "execution_count": 162,
   "metadata": {},
   "outputs": [
    {
     "data": {
      "text/plain": [
       "<matplotlib.axes._subplots.AxesSubplot at 0x11f99ead0>"
      ]
     },
     "execution_count": 162,
     "metadata": {},
     "output_type": "execute_result"
    },
    {
     "data": {
      "image/png": "[encoded data removed]",
      "text/plain": [
       "<Figure size 432x288 with 1 Axes>"
      ]
     },
     "metadata": {
      "needs_background": "light"
     },
     "output_type": "display_data"
    }
   ],
   "source": [
    "t = idt.Chromosome.value_counts()\n",
    "t = pd.merge(t, chrom_size.set_index(\"chrom\"), left_index=True, right_index=True)\n",
    "t = t.reindex(index=na.natsorted(t.index))\n",
    "t[\"density\"] = t.Chromosome/t[\"size\"]\n",
    "t = t[t.index != 'Y']\n",
    "(1./t.density).plot(kind='bar')"
   ]
  },
  {
   "cell_type": "markdown",
   "metadata": {},
   "source": [
    "Questions for IDT\n",
    "\n",
    "    - What is the design of the CNV probes from IDT? Specially balanced or just a random subset?\n",
    "    - Why is X not as densly tiled?\n",
    "    - Can we tune the concentrations of the CNV probe pool?\n",
    "    - Pricing? Can we be beta testers?\n",
    "    - If we design our own, what is the IDT pooling strategy-- can we specify what SNPs go into which pools?\n",
    "    \n",
    "Questions for Steve:\n",
    "\n",
    "    - Why do some of the SNPs have such low MAF?\n",
    "    - Do we need the targeted snps? (no?)"
   ]
  },
  {
   "cell_type": "code",
   "execution_count": null,
   "metadata": {},
   "outputs": [],
   "source": []
  }
 ],
 "metadata": {
  "kernelspec": {
   "display_name": "Python 3",
   "language": "python",
   "name": "python3"
  },
  "language_info": {
   "codemirror_mode": {
    "name": "ipython",
    "version": 3
   },
   "file_extension": ".py",
   "mimetype": "text/x-python",
   "name": "python",
   "nbconvert_exporter": "python",
   "pygments_lexer": "ipython3",
   "version": "3.7.6"
  }
 },
 "nbformat": 4,
 "nbformat_minor": 4
}
