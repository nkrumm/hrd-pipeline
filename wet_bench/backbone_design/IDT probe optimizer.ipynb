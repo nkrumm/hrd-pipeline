{
 "cells": [
  {
   "cell_type": "code",
   "execution_count": 14,
   "metadata": {},
   "outputs": [],
   "source": [
    "import pandas as pd\n",
    "import matplotlib.pyplot as plt"
   ]
  },
  {
   "cell_type": "code",
   "execution_count": 2,
   "metadata": {},
   "outputs": [],
   "source": [
    "%matplotlib inline"
   ]
  },
  {
   "cell_type": "code",
   "execution_count": 9,
   "metadata": {},
   "outputs": [],
   "source": [
    "df = pd.read_csv(\"probe_selection/CNV_NA12878_Average_Probe_Coverage.csv\",sep=\"\\t\", names=[\"chrom\", \"start\", \"stop\", \"name\", \"coverage\"])"
   ]
  },
  {
   "cell_type": "code",
   "execution_count": 421,
   "metadata": {},
   "outputs": [],
   "source": [
    "df[[\"chrom\", \"start\", \"stop\"]].to_csv(\"~/Desktop/orig.bed\", sep=\"\\t\", header=False, index=False)"
   ]
  },
  {
   "cell_type": "code",
   "execution_count": 22,
   "metadata": {},
   "outputs": [],
   "source": [
    "df = df.sort_values([\"chrom\", \"start\"])"
   ]
  },
  {
   "cell_type": "code",
   "execution_count": 511,
   "metadata": {},
   "outputs": [],
   "source": [
    "autosomes = [\"chr%s\" % i for i in range(1,23)]\n",
    "all_chrs = [\"chr%s\" % i for i in range(1,23)] + [\"chrX\", \"chrY\"]"
   ]
  },
  {
   "cell_type": "code",
   "execution_count": 52,
   "metadata": {},
   "outputs": [
    {
     "data": {
      "text/plain": [
       "(0, 1000)"
      ]
     },
     "execution_count": 52,
     "metadata": {},
     "output_type": "execute_result"
    },
    {
     "data": {
      "image/png": "[encoded data removed]",
      "text/plain": [
       "<Figure size 720x432 with 1 Axes>"
      ]
     },
     "metadata": {
      "needs_background": "light"
     },
     "output_type": "display_data"
    }
   ],
   "source": [
    "fig, ax = plt.subplots(figsize=(10,6))\n",
    "_ = ax.hist(df[df.chrom.isin(autosomes)].coverage, bins=100, range=(0,1000))\n",
    "_ = ax.hist(df[~df.chrom.isin(autosomes)].coverage, bins=100, range=(0,1000))\n",
    "ax.set_xlim([0,1000])"
   ]
  },
  {
   "cell_type": "code",
   "execution_count": 27,
   "metadata": {},
   "outputs": [],
   "source": [
    "df[\"spacing\"] = df.groupby(\"chrom\").start.diff()"
   ]
  },
  {
   "cell_type": "code",
   "execution_count": 46,
   "metadata": {},
   "outputs": [
    {
     "name": "stderr",
     "output_type": "stream",
     "text": [
      "/Users/nkrumm/.virtualenvs/data/lib/python3.7/site-packages/ipykernel_launcher.py:3: MatplotlibDeprecationWarning: \n",
      "The 'normed' kwarg was deprecated in Matplotlib 2.1 and will be removed in 3.1. Use 'density' instead.\n",
      "  This is separate from the ipykernel package so we can avoid doing imports until\n",
      "/Users/nkrumm/.virtualenvs/data/lib/python3.7/site-packages/ipykernel_launcher.py:4: MatplotlibDeprecationWarning: \n",
      "The 'normed' kwarg was deprecated in Matplotlib 2.1 and will be removed in 3.1. Use 'density' instead.\n",
      "  after removing the cwd from sys.path.\n"
     ]
    },
    {
     "data": {
      "image/png": "[encoded data removed]",
      "text/plain": [
       "<Figure size 720x432 with 1 Axes>"
      ]
     },
     "metadata": {
      "needs_background": "light"
     },
     "output_type": "display_data"
    }
   ],
   "source": [
    "\n",
    "fig, ax = plt.subplots(figsize=(10,6))\n",
    "_ = ax.hist(df[df.chrom.isin(autosomes)].spacing, bins=100, range=(0,5e6), normed=True)\n",
    "_ = ax.hist(df[~df.chrom.isin(autosomes)].spacing, bins=100, range=(0,5e6), normed=True)"
   ]
  },
  {
   "cell_type": "markdown",
   "metadata": {},
   "source": [
    "## Attempt 2\n"
   ]
  },
  {
   "cell_type": "code",
   "execution_count": 87,
   "metadata": {},
   "outputs": [],
   "source": [
    "class Interval():\n",
    "    def __init__(self, start, end, weight, corresponding_object):\n",
    "        self.start = start\n",
    "        self.end = end\n",
    "        self.weight = weight\n",
    "        self.corresponding_object = corresponding_object\n",
    "        # The combined weight of the MWIS prior to this interval.\n",
    "        self.__value__ = None\n",
    "        # The previous inverval in the MWIS prior to this interval.\n",
    "        self.__previous__ = None\n",
    "\n",
    "    def start_endpoint(self):\n",
    "        return Endpoint(self, True)\n",
    "\n",
    "    def end_endpoint(self):\n",
    "        return Endpoint(self, False)\n",
    "\n",
    "    def __len__(self):\n",
    "        return self.end - self.start\n",
    "\n",
    "\n",
    "class Endpoint():\n",
    "    def __init__(self, interval, is_start):\n",
    "        self.interval = interval\n",
    "        self.is_start = is_start\n",
    "\n",
    "    def get_idx(self):\n",
    "        if self.is_start:\n",
    "            return self.interval.start\n",
    "        else:\n",
    "            return self.interval.end\n",
    "\n",
    "    def __lt__(self, other):\n",
    "        # This sorts endpont in the following order when offsets are the same:\n",
    "        # [NI end points][ZI start points][NI start points][ZI end points]\n",
    "        # NI = Non-zero length interval\n",
    "        # ZI = Zero length interval\n",
    "        if self.get_idx() == other.get_idx():\n",
    "            if len(self.interval) == 0:\n",
    "                if len(other.interval) == 0:\n",
    "                    return self.is_start and not other.is_start\n",
    "                else:\n",
    "                    return self.is_start and other.is_start\n",
    "            else:\n",
    "                if len(other.interval) == 0:\n",
    "                    return not self.is_start or not other.is_start\n",
    "                else:\n",
    "                    return not self.is_start and other.is_start\n",
    "        else:\n",
    "            return self.get_idx() < other.get_idx()\n",
    "\n",
    "\n",
    "def find_maximum_weight_interval_set(intervals):\n",
    "    \"\"\"\n",
    "    Takes a list of weighted intervals and returns a non-overlapping set of them\n",
    "    with the maximum possible weight.\n",
    "    Weights may be numeric or numeric tuples.\n",
    "    There are some edge-cases to consider in determining what constitutes an\n",
    "    overlap in relation to end-points and zero length intervals.\n",
    "    The intervals are left-closed. If the left endpoints of two zero\n",
    "    length intervals overlap, they are considered to be overlapping.\n",
    "    However, the right endpoint of a non-zero length interval could overlap\n",
    "    the left endpoint of another interval without it being considered an overlap.\n",
    "    Of course, if an endpoint is in the middle of another non-zero length\n",
    "    interval, it is considered to be overlapping.\n",
    "    \"\"\"\n",
    "    endpoints = []\n",
    "    for interval in intervals:\n",
    "        endpoints.append(interval.start_endpoint())\n",
    "        endpoints.append(interval.end_endpoint())\n",
    "    sorted_endpoints = sorted(endpoints)\n",
    "    max_interval_sofar = None\n",
    "    for endpoint in sorted_endpoints:\n",
    "        if endpoint.is_start:\n",
    "            endpoint.interval.__value__ = endpoint.interval.weight\n",
    "            if max_interval_sofar:\n",
    "                if isinstance(max_interval_sofar.__value__, tuple):\n",
    "                    endpoint.interval.__value__ = tuple(map(sum, zip(max_interval_sofar.__value__,\n",
    "                                                                     endpoint.interval.__value__)))\n",
    "                else:\n",
    "                    endpoint.interval.__value__ += max_interval_sofar.__value__\n",
    "                endpoint.interval.__previous__ = max_interval_sofar\n",
    "        else:  # endoint.is_end\n",
    "            if not max_interval_sofar:\n",
    "                max_interval_sofar = endpoint.interval\n",
    "            elif endpoint.interval.__value__ >= max_interval_sofar.__value__:\n",
    "                max_interval_sofar = endpoint.interval\n",
    "    mwis = []\n",
    "    while max_interval_sofar:\n",
    "        mwis.insert(0, max_interval_sofar)\n",
    "        max_interval_sofar = max_interval_sofar.__previous__\n",
    "    if len(intervals) >= 1:\n",
    "        assert len(mwis) >= 1\n",
    "    return mwis"
   ]
  },
  {
   "cell_type": "code",
   "execution_count": 542,
   "metadata": {},
   "outputs": [],
   "source": [
    "# settings\n",
    "\n",
    "coverage_penalty = 0\n",
    "min_spacing = 750000"
   ]
  },
  {
   "cell_type": "code",
   "execution_count": 543,
   "metadata": {},
   "outputs": [
    {
     "name": "stdout",
     "output_type": "stream",
     "text": [
      "3141\n"
     ]
    }
   ],
   "source": [
    "cov_mean = df.coverage.mean()\n",
    "out = []\n",
    "for chrom in all_chrs:\n",
    "    t = df[df.chrom == chrom]\n",
    "    t = t.sort_values(\"start\").reset_index()\n",
    "    ivals = []\n",
    "    for ix, row in t.iterrows():\n",
    "        start = row.start - int(min_spacing/2)\n",
    "        stop = row.stop + int(min_spacing/2)\n",
    "        abs_delta = abs(cov_mean - row.coverage) * coverage_penalty\n",
    "        weight = (-1. * abs_delta) + 1000\n",
    "        row[\"weight\"] = weight\n",
    "        ivals.append(Interval(start, stop, weight, row))\n",
    "\n",
    "    mwis = find_maximum_weight_interval_set(ivals)\n",
    "    mwis_df = pd.DataFrame([i.corresponding_object for i in mwis])\n",
    "    mwis_df[\"spacing\"] = mwis_df.start.diff()\n",
    "    out.append(mwis_df)\n",
    "\n",
    "mwis_df = pd.concat(out)\n",
    "print(mwis_df.shape[0])"
   ]
  },
  {
   "cell_type": "code",
   "execution_count": 544,
   "metadata": {},
   "outputs": [
    {
     "data": {
      "text/plain": [
       "Text(0.5, 0.98, 'Selecting 3141 of 9110 total (min_spacing=700000, penalty=0)')"
      ]
     },
     "execution_count": 544,
     "metadata": {},
     "output_type": "execute_result"
    },
    {
     "data": {
      "image/png": "[encoded data removed]",
      "text/plain": [
       "<Figure size 864x576 with 4 Axes>"
      ]
     },
     "metadata": {
      "needs_background": "light"
     },
     "output_type": "display_data"
    }
   ],
   "source": [
    "fig, axes = plt.subplots(figsize=(12,8), ncols=2, nrows=2)\n",
    "\n",
    "df.coverage.hist(bins=30, range=(0,500), ax=axes[0][0])\n",
    "axes[0][0].set_title(\"All (SD=%f)\" % df.coverage.std())\n",
    "df.spacing.hist(bins=50, range=(0,5e6), ax=axes[0][1])\n",
    "\n",
    "mwis_df.coverage.hist(bins=30, range=(0,500), ax=axes[1][0])\n",
    "axes[1][0].set_title(\"Selected (SD=%f)\" % mwis_df.coverage.std())\n",
    "mwis_df.spacing.hist(bins=50, range=(0,5e6), ax=axes[1][1])\n",
    "fig.suptitle(\"Selecting %d of %d total (min_spacing=%d, penalty=%d)\" % (len(mwis_df),len(df), min_spacing, coverage_penalty))"
   ]
  },
  {
   "cell_type": "code",
   "execution_count": 545,
   "metadata": {},
   "outputs": [],
   "source": [
    "mwis_df[[\"chrom\", \"start\", \"stop\"]].to_csv(\n",
    "    \"~/Desktop/selected_%d_%d.bed\" % (min_spacing, coverage_penalty),\n",
    "    sep=\"\\t\", header=False, index=False)"
   ]
  },
  {
   "cell_type": "code",
   "execution_count": null,
   "metadata": {},
   "outputs": [],
   "source": []
  }
 ],
 "metadata": {
  "kernelspec": {
   "display_name": "Python 3",
   "language": "python",
   "name": "python3"
  },
  "language_info": {
   "codemirror_mode": {
    "name": "ipython",
    "version": 3
   },
   "file_extension": ".py",
   "mimetype": "text/x-python",
   "name": "python",
   "nbconvert_exporter": "python",
   "pygments_lexer": "ipython3",
   "version": "3.7.6"
  }
 },
 "nbformat": 4,
 "nbformat_minor": 4
}
